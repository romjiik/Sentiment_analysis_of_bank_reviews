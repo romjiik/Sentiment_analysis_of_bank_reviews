{
 "cells": [
  {
   "cell_type": "code",
   "execution_count": 2,
   "id": "57f88484",
   "metadata": {},
   "outputs": [],
   "source": [
    "import pandas as pd\n",
    "import numpy as np\n",
    "import nltk\n",
    "# nltk.download('stopwords')\n",
    "from nltk.corpus import stopwords\n",
    "from nltk.stem import WordNetLemmatizer\n",
    "import re\n",
    "import pymorphy3\n",
    "from sklearn.feature_extraction.text import TfidfVectorizer\n",
    "from sklearn.model_selection import train_test_split\n",
    "from sklearn.linear_model import LogisticRegression\n",
    "from sklearn.metrics import precision_recall_fscore_support, accuracy_score, confusion_matrix, ConfusionMatrixDisplay\n",
    "from sklearn.metrics import accuracy_score\n",
    "import matplotlib.pyplot as plt"
   ]
  },
  {
   "cell_type": "code",
   "execution_count": 29,
   "id": "126b87d2",
   "metadata": {},
   "outputs": [
    {
     "name": "stdout",
     "output_type": "stream",
     "text": [
      "Финальнй список стоп слов:\n",
      "{'про', 'мы', 'чтоб', 'какой', 'всех', 'до', 'есть', 'нельзя', 'мой', 'ли', 'себя', 'тем', 'перед', 'а', 'между', 'свою', 'уже', 'какая', 'ни', 'чего', 'после', 'так', 'ну', 'где', 'ведь', 'ему', 'там', 'ее', 'наконец', 'вас', 'при', 'никогда', 'на', 'не', 'нас', 'что', 'под', 'еще', 'мне', 'вдруг', 'уж', 'того', 'один', 'все', 'была', 'этот', 'через', 'будет', 'тут', 'эту', 'даже', 'сам', 'моя', 'к', 'он', 'она', 'опять', 'из', 'был', 'эти', 'сейчас', 'всего', 'ним', 'в', 'его', 'и', 'бы', 'с', 'них', 'только', 'может', 'как', 'всегда', 'со', 'без', 'теперь', 'чуть', 'этой', 'него', 'лучше', 'о', 'если', 'ней', 'но', 'более', 'я', 'другой', 'нет', 'нее', 'у', 'себе', 'хоть', 'то', 'были', 'об', 'меня', 'впрочем', 'будто', 'их', 'совсем', 'конечно', 'тоже', 'за', 'два', 'том', 'всю', 'хорошо', 'быть', 'же', 'по', 'этого', 'вам', 'раз', 'почти', 'над', 'было', 'потому', 'такой', 'ж', 'надо', 'ты', 'тебя', 'ничего', 'три', 'потом', 'зачем', 'этом', 'тогда', 'много', 'они', 'куда', 'больше', 'вот', 'кто', 'нибудь', 'вы', 'им', 'для', 'иногда', 'да', 'ей', 'чтобы', 'можно', 'чем', 'во', 'разве', 'или', 'от', 'здесь', 'тот', 'когда'}\n"
     ]
    }
   ],
   "source": [
    "#список стоп-слов\n",
    "stopword_list = set(stopwords.words('russian'))\n",
    "# no_stopwords = ['не', 'нет', 'без', 'никогда']\n",
    "\n",
    "# for no_stopword in no_stopwords:\n",
    "#     stopword_list.remove(no_stopword)\n",
    "\n",
    "print(f'Финальнй список стоп слов:\\n{stopword_list}')\n",
    "\n",
    "#lemma\n",
    "lemmatizer = pymorphy3.MorphAnalyzer()\n",
    "\n",
    "def lemma_stem_text(word_list):\n",
    "    lemma = []\n",
    "    for word in word_list:\n",
    "        p = lemmatizer.parse(word)[0]\n",
    "        lemma.append(p.normal_form)\n",
    "    return lemma\n",
    "\n",
    "#summary\n",
    "def review_to_words(raw_review):\n",
    "    #оставляем только буквы и цифры\n",
    "    letters_numbers_only = re.sub('[^А-Яа-яёЁ0-9]', ' ', raw_review)\n",
    "    #приводим все к нижнему регистру\n",
    "    words = np.char.lower(letters_numbers_only.split())\n",
    "    #убираем стоп-слова\n",
    "    without_stop_words = [w for w in words if not w in stopword_list]\n",
    "    #лемматизация\n",
    "    lemma_words = lemma_stem_text(without_stop_words)\n",
    "    return ' '.join(lemma_words)\n"
   ]
  },
  {
   "cell_type": "code",
   "execution_count": 30,
   "id": "f345ba48",
   "metadata": {},
   "outputs": [],
   "source": [
    "df = pd.read_csv('final_review_dataset_extended.csv')"
   ]
  },
  {
   "cell_type": "code",
   "execution_count": 31,
   "id": "8abb4cd7",
   "metadata": {},
   "outputs": [
    {
     "data": {
      "text/plain": [
       "(12392, 16)"
      ]
     },
     "execution_count": 31,
     "metadata": {},
     "output_type": "execute_result"
    }
   ],
   "source": [
    "df.shape"
   ]
  },
  {
   "cell_type": "code",
   "execution_count": 32,
   "id": "b675a948",
   "metadata": {},
   "outputs": [
    {
     "name": "stdout",
     "output_type": "stream",
     "text": [
      "Data splitted. Parts sizes: train_data = (9913, 16), test_data = (2479, 16)\n"
     ]
    }
   ],
   "source": [
    "train_data, test_data = train_test_split(df, \n",
    "                                         test_size=TEST_SIZE, \n",
    "                                         stratify=df[TARGET_NAME], \n",
    "                                         random_state=10)\n",
    "\n",
    "print('Data splitted. Parts sizes: train_data = {}, test_data = {}'\n",
    "              .format(train_data.shape, test_data.shape))"
   ]
  },
  {
   "cell_type": "code",
   "execution_count": 33,
   "id": "2041818b",
   "metadata": {},
   "outputs": [
    {
     "name": "stdout",
     "output_type": "stream",
     "text": [
      "Data splitted. Parts sizes: train = (7930, 16), valid = (1983, 16)\n"
     ]
    }
   ],
   "source": [
    "train, valid = train_test_split(train_data, \n",
    "                                         test_size=TEST_SIZE, \n",
    "                                         stratify=train_data[TARGET_NAME], \n",
    "                                         random_state=10)\n",
    "\n",
    "print('Data splitted. Parts sizes: train = {}, valid = {}'\n",
    "              .format(train.shape, valid.shape))"
   ]
  },
  {
   "cell_type": "code",
   "execution_count": 34,
   "id": "db136897",
   "metadata": {},
   "outputs": [
    {
     "name": "stdout",
     "output_type": "stream",
     "text": [
      "CPU times: user 37 s, sys: 169 ms, total: 37.2 s\n",
      "Wall time: 37.2 s\n"
     ]
    }
   ],
   "source": [
    "%%time\n",
    "reviews_train = train['review']\n",
    "cleaned_train_reviews = [review_to_words(review) for review in reviews_train]\n",
    "\n",
    "\n",
    "#tf-idf\n",
    "vectorizer = TfidfVectorizer(max_features=20000, ngram_range=(1,2))\n",
    "train_data_features = vectorizer.fit_transform(cleaned_train_reviews)"
   ]
  },
  {
   "cell_type": "code",
   "execution_count": 35,
   "id": "df6d0778",
   "metadata": {},
   "outputs": [
    {
     "name": "stdout",
     "output_type": "stream",
     "text": [
      "CPU times: user 9.16 s, sys: 16.1 ms, total: 9.18 s\n",
      "Wall time: 9.18 s\n"
     ]
    }
   ],
   "source": [
    "%%time\n",
    "reviews_valid = valid['review']\n",
    "cleaned_valid_reviews = [review_to_words(review) for review in reviews_valid]\n",
    "\n",
    "\n",
    "#tf-idf\n",
    "valid_data_features = vectorizer.transform(cleaned_valid_reviews)"
   ]
  },
  {
   "cell_type": "code",
   "execution_count": 36,
   "id": "63b9a04e",
   "metadata": {},
   "outputs": [
    {
     "name": "stdout",
     "output_type": "stream",
     "text": [
      "CPU times: user 11.7 s, sys: 19 ms, total: 11.7 s\n",
      "Wall time: 11.7 s\n"
     ]
    }
   ],
   "source": [
    "%%time\n",
    "reviews_test = test_data['review']\n",
    "cleaned_test_reviews = [review_to_words(review) for review in reviews_test]\n",
    "\n",
    "\n",
    "#tf-idf\n",
    "test_data_features = vectorizer.transform(cleaned_test_reviews)"
   ]
  },
  {
   "cell_type": "code",
   "execution_count": 37,
   "id": "2979118d",
   "metadata": {},
   "outputs": [
    {
     "data": {
      "text/plain": [
       "(2479, 20000)"
      ]
     },
     "execution_count": 37,
     "metadata": {},
     "output_type": "execute_result"
    }
   ],
   "source": [
    "test_data_features.shape"
   ]
  },
  {
   "cell_type": "code",
   "execution_count": 38,
   "id": "df27380c",
   "metadata": {},
   "outputs": [],
   "source": [
    "logreg_model = LogisticRegression(solver='lbfgs', multi_class='multinomial', random_state=17, n_jobs=-1, \n",
    "                                 max_iter=2000)"
   ]
  },
  {
   "cell_type": "code",
   "execution_count": 39,
   "id": "c602f7b2",
   "metadata": {},
   "outputs": [
    {
     "data": {
      "text/html": [
       "<style>#sk-container-id-4 {color: black;background-color: white;}#sk-container-id-4 pre{padding: 0;}#sk-container-id-4 div.sk-toggleable {background-color: white;}#sk-container-id-4 label.sk-toggleable__label {cursor: pointer;display: block;width: 100%;margin-bottom: 0;padding: 0.3em;box-sizing: border-box;text-align: center;}#sk-container-id-4 label.sk-toggleable__label-arrow:before {content: \"▸\";float: left;margin-right: 0.25em;color: #696969;}#sk-container-id-4 label.sk-toggleable__label-arrow:hover:before {color: black;}#sk-container-id-4 div.sk-estimator:hover label.sk-toggleable__label-arrow:before {color: black;}#sk-container-id-4 div.sk-toggleable__content {max-height: 0;max-width: 0;overflow: hidden;text-align: left;background-color: #f0f8ff;}#sk-container-id-4 div.sk-toggleable__content pre {margin: 0.2em;color: black;border-radius: 0.25em;background-color: #f0f8ff;}#sk-container-id-4 input.sk-toggleable__control:checked~div.sk-toggleable__content {max-height: 200px;max-width: 100%;overflow: auto;}#sk-container-id-4 input.sk-toggleable__control:checked~label.sk-toggleable__label-arrow:before {content: \"▾\";}#sk-container-id-4 div.sk-estimator input.sk-toggleable__control:checked~label.sk-toggleable__label {background-color: #d4ebff;}#sk-container-id-4 div.sk-label input.sk-toggleable__control:checked~label.sk-toggleable__label {background-color: #d4ebff;}#sk-container-id-4 input.sk-hidden--visually {border: 0;clip: rect(1px 1px 1px 1px);clip: rect(1px, 1px, 1px, 1px);height: 1px;margin: -1px;overflow: hidden;padding: 0;position: absolute;width: 1px;}#sk-container-id-4 div.sk-estimator {font-family: monospace;background-color: #f0f8ff;border: 1px dotted black;border-radius: 0.25em;box-sizing: border-box;margin-bottom: 0.5em;}#sk-container-id-4 div.sk-estimator:hover {background-color: #d4ebff;}#sk-container-id-4 div.sk-parallel-item::after {content: \"\";width: 100%;border-bottom: 1px solid gray;flex-grow: 1;}#sk-container-id-4 div.sk-label:hover label.sk-toggleable__label {background-color: #d4ebff;}#sk-container-id-4 div.sk-serial::before {content: \"\";position: absolute;border-left: 1px solid gray;box-sizing: border-box;top: 0;bottom: 0;left: 50%;z-index: 0;}#sk-container-id-4 div.sk-serial {display: flex;flex-direction: column;align-items: center;background-color: white;padding-right: 0.2em;padding-left: 0.2em;position: relative;}#sk-container-id-4 div.sk-item {position: relative;z-index: 1;}#sk-container-id-4 div.sk-parallel {display: flex;align-items: stretch;justify-content: center;background-color: white;position: relative;}#sk-container-id-4 div.sk-item::before, #sk-container-id-4 div.sk-parallel-item::before {content: \"\";position: absolute;border-left: 1px solid gray;box-sizing: border-box;top: 0;bottom: 0;left: 50%;z-index: -1;}#sk-container-id-4 div.sk-parallel-item {display: flex;flex-direction: column;z-index: 1;position: relative;background-color: white;}#sk-container-id-4 div.sk-parallel-item:first-child::after {align-self: flex-end;width: 50%;}#sk-container-id-4 div.sk-parallel-item:last-child::after {align-self: flex-start;width: 50%;}#sk-container-id-4 div.sk-parallel-item:only-child::after {width: 0;}#sk-container-id-4 div.sk-dashed-wrapped {border: 1px dashed gray;margin: 0 0.4em 0.5em 0.4em;box-sizing: border-box;padding-bottom: 0.4em;background-color: white;}#sk-container-id-4 div.sk-label label {font-family: monospace;font-weight: bold;display: inline-block;line-height: 1.2em;}#sk-container-id-4 div.sk-label-container {text-align: center;}#sk-container-id-4 div.sk-container {/* jupyter's `normalize.less` sets `[hidden] { display: none; }` but bootstrap.min.css set `[hidden] { display: none !important; }` so we also need the `!important` here to be able to override the default hidden behavior on the sphinx rendered scikit-learn.org. See: https://github.com/scikit-learn/scikit-learn/issues/21755 */display: inline-block !important;position: relative;}#sk-container-id-4 div.sk-text-repr-fallback {display: none;}</style><div id=\"sk-container-id-4\" class=\"sk-top-container\"><div class=\"sk-text-repr-fallback\"><pre>LogisticRegression(max_iter=2000, multi_class=&#x27;multinomial&#x27;, n_jobs=-1,\n",
       "                   random_state=17)</pre><b>In a Jupyter environment, please rerun this cell to show the HTML representation or trust the notebook. <br />On GitHub, the HTML representation is unable to render, please try loading this page with nbviewer.org.</b></div><div class=\"sk-container\" hidden><div class=\"sk-item\"><div class=\"sk-estimator sk-toggleable\"><input class=\"sk-toggleable__control sk-hidden--visually\" id=\"sk-estimator-id-4\" type=\"checkbox\" checked><label for=\"sk-estimator-id-4\" class=\"sk-toggleable__label sk-toggleable__label-arrow\">LogisticRegression</label><div class=\"sk-toggleable__content\"><pre>LogisticRegression(max_iter=2000, multi_class=&#x27;multinomial&#x27;, n_jobs=-1,\n",
       "                   random_state=17)</pre></div></div></div></div></div>"
      ],
      "text/plain": [
       "LogisticRegression(max_iter=2000, multi_class='multinomial', n_jobs=-1,\n",
       "                   random_state=17)"
      ]
     },
     "execution_count": 39,
     "metadata": {},
     "output_type": "execute_result"
    }
   ],
   "source": [
    "logreg_model.fit(train_data_features, train['rating_value'])"
   ]
  },
  {
   "cell_type": "code",
   "execution_count": 40,
   "id": "6fac9cf1",
   "metadata": {},
   "outputs": [],
   "source": [
    "labels_pred = logreg_model.predict(valid_data_features)"
   ]
  },
  {
   "cell_type": "code",
   "execution_count": 41,
   "id": "d68de936",
   "metadata": {},
   "outputs": [],
   "source": [
    "labels_true = valid['rating_value']"
   ]
  },
  {
   "cell_type": "code",
   "execution_count": 42,
   "id": "a8fee1e4",
   "metadata": {},
   "outputs": [
    {
     "name": "stdout",
     "output_type": "stream",
     "text": [
      "accuracy: 0.8310640443772063\n"
     ]
    }
   ],
   "source": [
    "print(f'accuracy: {accuracy_score(labels_true, labels_pred)}')"
   ]
  },
  {
   "cell_type": "code",
   "execution_count": 43,
   "id": "f8868520",
   "metadata": {},
   "outputs": [
    {
     "name": "stdout",
     "output_type": "stream",
     "text": [
      "MICRO AVERAGE: precision: 0.8310640443772063, recall: 0.8310640443772063, f1score: 0.8310640443772064\n",
      "MACRO AVERAGE: precision: 0.3373274704441928, recall: 0.38657289002557543, f1score: 0.3594269230826985\n"
     ]
    },
    {
     "name": "stderr",
     "output_type": "stream",
     "text": [
      "/opt/homebrew/lib/python3.11/site-packages/sklearn/metrics/_classification.py:1344: UndefinedMetricWarning: Precision and F-score are ill-defined and being set to 0.0 in labels with no predicted samples. Use `zero_division` parameter to control this behavior.\n",
      "  _warn_prf(average, modifier, msg_start, len(result))\n"
     ]
    }
   ],
   "source": [
    "precision, recall, f1score = precision_recall_fscore_support(labels_true, labels_pred,average='micro')[:3]\n",
    "\n",
    "print(f'MICRO AVERAGE: precision: {precision}, recall: {recall}, f1score: {f1score}')\n",
    "\n",
    "precision, recall, f1score = precision_recall_fscore_support(labels_true, labels_pred,average='macro')[:3]\n",
    "\n",
    "print(f'MACRO AVERAGE: precision: {precision}, recall: {recall}, f1score: {f1score}')"
   ]
  },
  {
   "cell_type": "markdown",
   "id": "f3a0d716",
   "metadata": {},
   "source": [
    "про равенство всех трех метрик [тут](https://stackoverflow.com/questions/54068401/can-the-precision-recall-and-f1-be-the-same-value)"
   ]
  },
  {
   "cell_type": "code",
   "execution_count": 44,
   "id": "a2ddb7ca",
   "metadata": {},
   "outputs": [
    {
     "data": {
      "image/png": "[encoded data removed]",
      "text/plain": [
       "<Figure size 640x480 with 2 Axes>"
      ]
     },
     "metadata": {},
     "output_type": "display_data"
    }
   ],
   "source": [
    "cm = confusion_matrix(labels_true, labels_pred, labels=logreg_model.classes_)\n",
    "disp = ConfusionMatrixDisplay(confusion_matrix=cm,\n",
    "                              display_labels=logreg_model.classes_)\n",
    "disp.plot()\n",
    "plt.show()"
   ]
  },
  {
   "cell_type": "code",
   "execution_count": 45,
   "id": "f251db6a",
   "metadata": {},
   "outputs": [],
   "source": [
    "logreg_model_balanced = LogisticRegression(solver='lbfgs', multi_class='multinomial', random_state=17, n_jobs=-1, \n",
    "                                 max_iter=2000, class_weight='balanced')"
   ]
  },
  {
   "cell_type": "code",
   "execution_count": 46,
   "id": "2a5b6eac",
   "metadata": {},
   "outputs": [
    {
     "data": {
      "text/html": [
       "<style>#sk-container-id-5 {color: black;background-color: white;}#sk-container-id-5 pre{padding: 0;}#sk-container-id-5 div.sk-toggleable {background-color: white;}#sk-container-id-5 label.sk-toggleable__label {cursor: pointer;display: block;width: 100%;margin-bottom: 0;padding: 0.3em;box-sizing: border-box;text-align: center;}#sk-container-id-5 label.sk-toggleable__label-arrow:before {content: \"▸\";float: left;margin-right: 0.25em;color: #696969;}#sk-container-id-5 label.sk-toggleable__label-arrow:hover:before {color: black;}#sk-container-id-5 div.sk-estimator:hover label.sk-toggleable__label-arrow:before {color: black;}#sk-container-id-5 div.sk-toggleable__content {max-height: 0;max-width: 0;overflow: hidden;text-align: left;background-color: #f0f8ff;}#sk-container-id-5 div.sk-toggleable__content pre {margin: 0.2em;color: black;border-radius: 0.25em;background-color: #f0f8ff;}#sk-container-id-5 input.sk-toggleable__control:checked~div.sk-toggleable__content {max-height: 200px;max-width: 100%;overflow: auto;}#sk-container-id-5 input.sk-toggleable__control:checked~label.sk-toggleable__label-arrow:before {content: \"▾\";}#sk-container-id-5 div.sk-estimator input.sk-toggleable__control:checked~label.sk-toggleable__label {background-color: #d4ebff;}#sk-container-id-5 div.sk-label input.sk-toggleable__control:checked~label.sk-toggleable__label {background-color: #d4ebff;}#sk-container-id-5 input.sk-hidden--visually {border: 0;clip: rect(1px 1px 1px 1px);clip: rect(1px, 1px, 1px, 1px);height: 1px;margin: -1px;overflow: hidden;padding: 0;position: absolute;width: 1px;}#sk-container-id-5 div.sk-estimator {font-family: monospace;background-color: #f0f8ff;border: 1px dotted black;border-radius: 0.25em;box-sizing: border-box;margin-bottom: 0.5em;}#sk-container-id-5 div.sk-estimator:hover {background-color: #d4ebff;}#sk-container-id-5 div.sk-parallel-item::after {content: \"\";width: 100%;border-bottom: 1px solid gray;flex-grow: 1;}#sk-container-id-5 div.sk-label:hover label.sk-toggleable__label {background-color: #d4ebff;}#sk-container-id-5 div.sk-serial::before {content: \"\";position: absolute;border-left: 1px solid gray;box-sizing: border-box;top: 0;bottom: 0;left: 50%;z-index: 0;}#sk-container-id-5 div.sk-serial {display: flex;flex-direction: column;align-items: center;background-color: white;padding-right: 0.2em;padding-left: 0.2em;position: relative;}#sk-container-id-5 div.sk-item {position: relative;z-index: 1;}#sk-container-id-5 div.sk-parallel {display: flex;align-items: stretch;justify-content: center;background-color: white;position: relative;}#sk-container-id-5 div.sk-item::before, #sk-container-id-5 div.sk-parallel-item::before {content: \"\";position: absolute;border-left: 1px solid gray;box-sizing: border-box;top: 0;bottom: 0;left: 50%;z-index: -1;}#sk-container-id-5 div.sk-parallel-item {display: flex;flex-direction: column;z-index: 1;position: relative;background-color: white;}#sk-container-id-5 div.sk-parallel-item:first-child::after {align-self: flex-end;width: 50%;}#sk-container-id-5 div.sk-parallel-item:last-child::after {align-self: flex-start;width: 50%;}#sk-container-id-5 div.sk-parallel-item:only-child::after {width: 0;}#sk-container-id-5 div.sk-dashed-wrapped {border: 1px dashed gray;margin: 0 0.4em 0.5em 0.4em;box-sizing: border-box;padding-bottom: 0.4em;background-color: white;}#sk-container-id-5 div.sk-label label {font-family: monospace;font-weight: bold;display: inline-block;line-height: 1.2em;}#sk-container-id-5 div.sk-label-container {text-align: center;}#sk-container-id-5 div.sk-container {/* jupyter's `normalize.less` sets `[hidden] { display: none; }` but bootstrap.min.css set `[hidden] { display: none !important; }` so we also need the `!important` here to be able to override the default hidden behavior on the sphinx rendered scikit-learn.org. See: https://github.com/scikit-learn/scikit-learn/issues/21755 */display: inline-block !important;position: relative;}#sk-container-id-5 div.sk-text-repr-fallback {display: none;}</style><div id=\"sk-container-id-5\" class=\"sk-top-container\"><div class=\"sk-text-repr-fallback\"><pre>LogisticRegression(class_weight=&#x27;balanced&#x27;, max_iter=2000,\n",
       "                   multi_class=&#x27;multinomial&#x27;, n_jobs=-1, random_state=17)</pre><b>In a Jupyter environment, please rerun this cell to show the HTML representation or trust the notebook. <br />On GitHub, the HTML representation is unable to render, please try loading this page with nbviewer.org.</b></div><div class=\"sk-container\" hidden><div class=\"sk-item\"><div class=\"sk-estimator sk-toggleable\"><input class=\"sk-toggleable__control sk-hidden--visually\" id=\"sk-estimator-id-5\" type=\"checkbox\" checked><label for=\"sk-estimator-id-5\" class=\"sk-toggleable__label sk-toggleable__label-arrow\">LogisticRegression</label><div class=\"sk-toggleable__content\"><pre>LogisticRegression(class_weight=&#x27;balanced&#x27;, max_iter=2000,\n",
       "                   multi_class=&#x27;multinomial&#x27;, n_jobs=-1, random_state=17)</pre></div></div></div></div></div>"
      ],
      "text/plain": [
       "LogisticRegression(class_weight='balanced', max_iter=2000,\n",
       "                   multi_class='multinomial', n_jobs=-1, random_state=17)"
      ]
     },
     "execution_count": 46,
     "metadata": {},
     "output_type": "execute_result"
    }
   ],
   "source": [
    "logreg_model_balanced.fit(train_data_features, train['rating_value'])"
   ]
  },
  {
   "cell_type": "code",
   "execution_count": 47,
   "id": "d032ae2e",
   "metadata": {},
   "outputs": [],
   "source": [
    "labels_pred_balanced = logreg_model_balanced.predict(valid_data_features)"
   ]
  },
  {
   "cell_type": "code",
   "execution_count": 48,
   "id": "462f3d54",
   "metadata": {},
   "outputs": [
    {
     "name": "stdout",
     "output_type": "stream",
     "text": [
      "accuracy: 0.8310640443772063\n"
     ]
    }
   ],
   "source": [
    "print(f'accuracy: {accuracy_score(labels_true, labels_pred)}')"
   ]
  },
  {
   "cell_type": "code",
   "execution_count": 49,
   "id": "4c68e847",
   "metadata": {},
   "outputs": [
    {
     "name": "stdout",
     "output_type": "stream",
     "text": [
      "MICRO AVERAGE: precision: 0.7423096318709027, recall: 0.7423096318709027, f1score: 0.7423096318709027\n",
      "MACRO AVERAGE: precision: 0.45175718001804954, recall: 0.46538019415339765, f1score: 0.45596691598427236\n"
     ]
    }
   ],
   "source": [
    "precision, recall, f1score = precision_recall_fscore_support(labels_true, labels_pred_balanced,average='micro')[:3]\n",
    "\n",
    "print(f'MICRO AVERAGE: precision: {precision}, recall: {recall}, f1score: {f1score}')\n",
    "\n",
    "precision, recall, f1score = precision_recall_fscore_support(labels_true, labels_pred_balanced,average='macro')[:3]\n",
    "\n",
    "print(f'MACRO AVERAGE: precision: {precision}, recall: {recall}, f1score: {f1score}')"
   ]
  },
  {
   "cell_type": "code",
   "execution_count": 50,
   "id": "72374252",
   "metadata": {},
   "outputs": [
    {
     "data": {
      "image/png": "[encoded data removed]",
      "text/plain": [
       "<Figure size 640x480 with 2 Axes>"
      ]
     },
     "metadata": {},
     "output_type": "display_data"
    }
   ],
   "source": [
    "cm = confusion_matrix(labels_true, labels_pred_balanced, labels=logreg_model_balanced.classes_)\n",
    "disp = ConfusionMatrixDisplay(confusion_matrix=cm,\n",
    "                              display_labels=logreg_model_balanced.classes_)\n",
    "disp.plot()\n",
    "plt.show()"
   ]
  },
  {
   "cell_type": "code",
   "execution_count": null,
   "id": "fe36fb80",
   "metadata": {},
   "outputs": [],
   "source": []
  }
 ],
 "metadata": {
  "kernelspec": {
   "display_name": "Python 3 (ipykernel)",
   "language": "python",
   "name": "python3"
  },
  "language_info": {
   "codemirror_mode": {
    "name": "ipython",
    "version": 3
   },
   "file_extension": ".py",
   "mimetype": "text/x-python",
   "name": "python",
   "nbconvert_exporter": "python",
   "pygments_lexer": "ipython3",
   "version": "3.11.4"
  }
 },
 "nbformat": 4,
 "nbformat_minor": 5
}
